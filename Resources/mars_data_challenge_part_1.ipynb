{
 "cells": [
  {
   "cell_type": "code",
   "execution_count": 1,
   "id": "019e1152",
   "metadata": {},
   "outputs": [],
   "source": [
    "from splinter import Browser\n",
    "from bs4 import BeautifulSoup\n",
    "from webdriver_manager.chrome import ChromeDriverManager\n",
    "import time\n",
    "import requests\n",
    "import pandas as pd"
   ]
  },
  {
   "cell_type": "code",
   "execution_count": 15,
   "id": "06aa942f",
   "metadata": {},
   "outputs": [],
   "source": [
    "# Setup splinter\n",
    "executable_path = {'executable_path': ChromeDriverManager().install()}\n",
    "browser = Browser('chrome', **executable_path, headless=False)"
   ]
  },
  {
   "cell_type": "code",
   "execution_count": 16,
   "id": "2717d61d",
   "metadata": {},
   "outputs": [],
   "source": [
    "url = 'https://redplanetscience.com/#'\n",
    "browser.visit(url)"
   ]
  },
  {
   "cell_type": "code",
   "execution_count": 17,
   "id": "a19c6e7c",
   "metadata": {},
   "outputs": [],
   "source": [
    "response = requests.get(url)"
   ]
  },
  {
   "cell_type": "code",
   "execution_count": 18,
   "id": "144095b2",
   "metadata": {},
   "outputs": [],
   "source": [
    "time.sleep(4)\n",
    "\n",
    "mars_html = browser.html\n",
    "soup = BeautifulSoup(mars_html, 'html.parser')"
   ]
  },
  {
   "cell_type": "code",
   "execution_count": 19,
   "id": "c6c6d52d",
   "metadata": {},
   "outputs": [],
   "source": [
    "listings = {}\n",
    "NewsData = []"
   ]
  },
  {
   "cell_type": "code",
   "execution_count": 56,
   "id": "bcafb474",
   "metadata": {},
   "outputs": [
    {
     "name": "stdout",
     "output_type": "stream",
     "text": [
      "{'titles': \"NASA's MAVEN Maps Winds in the Martian Upper Atmosphere that Mirror the Terrain Below and Gives Clues to Martian Climate\", 'previews': \"The agency's Mars 2020 mission is on its way. It will land at Jezero Crater in about seven months, on Feb. 18, 2021. \", 'preview': 'Researchers have created the first map of wind circulation in the upper atmosphere of a planet besides Earth, using data from NASA’s MAVEN spacecraft that were collected during the last two years.'}\n"
     ]
    }
   ],
   "source": [
    "listings[\"titles\"] = soup.find(\"div\", class_=\"content_title\").get_text();\n",
    "listings[\"preview\"] = soup.find(\"div\", class_=\"article_teaser_body\").get_text()\n",
    "\n",
    "print(listings)"
   ]
  },
  {
   "cell_type": "code",
   "execution_count": 52,
   "id": "b4f513fc",
   "metadata": {},
   "outputs": [],
   "source": [
    "NewsData=[]\n",
    "i = 0"
   ]
  },
  {
   "cell_type": "code",
   "execution_count": 53,
   "id": "324533e5",
   "metadata": {},
   "outputs": [],
   "source": [
    "mars_html = browser.html\n",
    "soup = BeautifulSoup(mars_html, 'html.parser')\n",
    "\n",
    "titles = soup.find_all('div', class_='content_title')\n",
    "previews = soup.find_all('div', class_='article_teaser_body')\n",
    "\n",
    "\n",
    "for title in titles:  \n",
    "    listings={}\n",
    "    listings[\"titles\"] = title.text\n",
    "    listings[\"previews\"] = previews[i].text\n",
    "    i+=1\n",
    "    NewsData.append(listings)"
   ]
  },
  {
   "cell_type": "code",
   "execution_count": 54,
   "id": "57bcc68f",
   "metadata": {},
   "outputs": [
    {
     "name": "stdout",
     "output_type": "stream",
     "text": [
      "[<div class=\"content_title\">NASA's MAVEN Maps Winds in the Martian Upper Atmosphere that Mirror the Terrain Below and Gives Clues to Martian Climate</div>, <div class=\"content_title\">All About the Laser (and Microphone) Atop Mars 2020, NASA's Next Rover</div>, <div class=\"content_title\">NASA's Curiosity Keeps Rolling As Team Operates Rover From Home</div>, <div class=\"content_title\">NASA's Mars 2020 Heads Into the Test Chamber</div>, <div class=\"content_title\">NASA's Perseverance Rover Will Peer Beneath Mars' Surface </div>, <div class=\"content_title\">3 Things We've Learned From NASA's Mars InSight </div>, <div class=\"content_title\">From JPL's Mailroom to Mars and Beyond</div>, <div class=\"content_title\">Mars Scientists Investigate Ancient Life in Australia</div>, <div class=\"content_title\">NASA Mars Mission Connects With Bosnian and Herzegovinian Town</div>, <div class=\"content_title\">Newfound Martian Aurora Actually the Most Common; Sheds Light on Mars' Changing Climate</div>, <div class=\"content_title\">NASA's Mars 2020 Rover Closer to Getting Its Name</div>, <div class=\"content_title\">NASA Prepares for Moon and Mars With New Addition to Its Deep Space Network</div>, <div class=\"content_title\">7 Things to Know About the Mars 2020 Perseverance Rover Mission</div>, <div class=\"content_title\">NASA InSight's 'Mole' Is Out of Sight</div>, <div class=\"content_title\">NASA, ULA Launch Mars 2020 Perseverance Rover Mission to Red Planet</div>]\n"
     ]
    }
   ],
   "source": [
    "print(titles)"
   ]
  },
  {
   "cell_type": "code",
   "execution_count": 55,
   "id": "26246adc",
   "metadata": {},
   "outputs": [
    {
     "name": "stdout",
     "output_type": "stream",
     "text": [
      "[{'titles': \"NASA's MAVEN Maps Winds in the Martian Upper Atmosphere that Mirror the Terrain Below and Gives Clues to Martian Climate\", 'previews': 'Researchers have created the first map of wind circulation in the upper atmosphere of a planet besides Earth, using data from NASA’s MAVEN spacecraft that were collected during the last two years.'}, {'titles': \"All About the Laser (and Microphone) Atop Mars 2020, NASA's Next Rover\", 'previews': 'SuperCam is a rock-vaporizing instrument that will help scientists hunt for Mars fossils.'}, {'titles': \"NASA's Curiosity Keeps Rolling As Team Operates Rover From Home\", 'previews': 'The team has learned to meet new challenges as they work remotely on the Mars mission.'}, {'titles': \"NASA's Mars 2020 Heads Into the Test Chamber\", 'previews': 'In this time-lapse video taken at JPL, engineers move the Mars 2020 rover into a large vacuum chamber for testing in Mars-like environmental conditions.'}, {'titles': \"NASA's Perseverance Rover Will Peer Beneath Mars' Surface \", 'previews': \"The agency's newest rover will use the first ground-penetrating radar instrument on the Martian surface to help search for signs of past microbial life. \"}, {'titles': \"3 Things We've Learned From NASA's Mars InSight \", 'previews': 'Scientists are finding new mysteries since the geophysics mission landed two years ago.'}, {'titles': \"From JPL's Mailroom to Mars and Beyond\", 'previews': 'Bill Allen has thrived as the mechanical systems design lead for three Mars rover missions, but he got his start as a teenager sorting letters for the NASA center.'}, {'titles': 'Mars Scientists Investigate Ancient Life in Australia', 'previews': \"Teams with NASA's Mars 2020 and ESA's ExoMars practiced hunting for fossilized microbial life in the Australian Outback in preparation for their Red Planet missions. \"}, {'titles': 'NASA Mars Mission Connects With Bosnian and Herzegovinian Town', 'previews': 'A letter from NASA was presented to the mayor of Jezero, Bosnia-Herzegovina, honoring the connection between the town and Jezero Crater, the Mars 2020 rover landing site.'}, {'titles': \"Newfound Martian Aurora Actually the Most Common; Sheds Light on Mars' Changing Climate\", 'previews': 'A type of Martian aurora first identified by NASA’s MAVEN spacecraft in 2016 is actually the most common form of aurora occurring on the Red Planet, according to new results from the mission.'}, {'titles': \"NASA's Mars 2020 Rover Closer to Getting Its Name\", 'previews': \"155 students from across the U.S. have been chosen as semifinalists in NASA's essay contest to name the Mars 2020 rover, and see it launch from Cape Canaveral this July.\"}, {'titles': 'NASA Prepares for Moon and Mars With New Addition to Its Deep Space Network', 'previews': 'Robotic spacecraft will be able to communicate with the dish using radio waves and lasers.'}, {'titles': '7 Things to Know About the Mars 2020 Perseverance Rover Mission', 'previews': \"NASA's next rover to the Red Planet is slated to launch no earlier than July 30. These highlights will get you up to speed on the ambitious mission.\"}, {'titles': \"NASA InSight's 'Mole' Is Out of Sight\", 'previews': \"Now that the heat probe is just below the Martian surface, InSight's arm will scoop some additional soil on top to help it keep digging so it can take Mars' temperature.\"}, {'titles': 'NASA, ULA Launch Mars 2020 Perseverance Rover Mission to Red Planet', 'previews': \"The agency's Mars 2020 mission is on its way. It will land at Jezero Crater in about seven months, on Feb. 18, 2021. \"}]\n"
     ]
    }
   ],
   "source": [
    "print(NewsData)"
   ]
  },
  {
   "cell_type": "code",
   "execution_count": 57,
   "id": "f64bf4e5",
   "metadata": {},
   "outputs": [],
   "source": [
    "browser.quit()"
   ]
  },
  {
   "cell_type": "code",
   "execution_count": null,
   "id": "5054602e",
   "metadata": {},
   "outputs": [],
   "source": []
  }
 ],
 "metadata": {
  "kernelspec": {
   "display_name": "Python 3 (ipykernel)",
   "language": "python",
   "name": "python3"
  },
  "language_info": {
   "codemirror_mode": {
    "name": "ipython",
    "version": 3
   },
   "file_extension": ".py",
   "mimetype": "text/x-python",
   "name": "python",
   "nbconvert_exporter": "python",
   "pygments_lexer": "ipython3",
   "version": "3.9.12"
  }
 },
 "nbformat": 4,
 "nbformat_minor": 5
}
